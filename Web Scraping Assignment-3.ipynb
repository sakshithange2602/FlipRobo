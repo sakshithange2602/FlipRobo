{
 "cells": [
  {
   "cell_type": "markdown",
   "metadata": {},
   "source": [
    "# 1. Write a python program which searches all the product under a particular product vertical from www.amazon.in. The product verticals to be searched will be taken as input from user. For e.g. If user input is ‘guitar’. Then search for guitars."
   ]
  },
  {
   "cell_type": "code",
   "execution_count": null,
   "metadata": {
    "scrolled": true
   },
   "outputs": [],
   "source": [
    "import selenium\n",
    "import pandas as pd\n",
    "import time\n",
    "from selenium import webdriver\n",
    "import xlsxwriter\n",
    "\n",
    "driver=webdriver.Chrome(r\"C:\\Users\\sagar\\Downloads\\chromedriver_win32\\chromedriver.exe\")\n",
    "\n",
    "url='https://www.amazon.in/'\n",
    "driver.get(url)\n",
    "user_inp=input(\"Enter the product you want to serach for:\")"
   ]
  },
  {
   "cell_type": "code",
   "execution_count": null,
   "metadata": {},
   "outputs": [],
   "source": [
    "search_bar=driver.find_element_by_id('twotabsearchtextbox')\n",
    "search_bar.clear()\n",
    "search_bar.send_keys(user_inp)\n",
    "\n",
    "search_btn=driver.find_element_by_id('nav-search-submit-button')\n",
    "search_btn.click()"
   ]
  },
  {
   "cell_type": "markdown",
   "metadata": {},
   "source": [
    "# 2. In the above question, now scrape the following details of each product listed in first 3 pages of your search results and save it in a dataframe and csv. In case if any product vertical has less than 3 pages in search results then scrape all the products available under that product vertical. Details to be scraped are: \"Brand Name\", \"Name of the Product\", \"Rating\", \"No. of Ratings\", \"Price\", \"Return/Exchange\", \"Expected Delivery\", \"Availability\", \"Other Details\" and “Product URL”. In case, if any of the details are missing for any of the product then replace it by “-“."
   ]
  },
  {
   "cell_type": "code",
   "execution_count": null,
   "metadata": {},
   "outputs": [],
   "source": [
    "urls=[]\n",
    "for i in driver.find_elements_by_xpath(\"//a[@class='a-link-normal a-text-normal']\"):\n",
    "    urls.append(i.get_attribute(\"href\"))\n",
    "urls"
   ]
  },
  {
   "cell_type": "code",
   "execution_count": null,
   "metadata": {},
   "outputs": [],
   "source": [
    "element_list = []\n",
    "\n",
    "for i in urls[:10]:\n",
    "    driver.get(i)\n",
    "    time.sleep(3)\n",
    "    \n",
    "    try:\n",
    "        brandname_tags=driver.find_elements_by_xpath('//*[@id=\"productOverview_feature_div\"]/div/table/tbody/tr[1]/td[2]/span')\n",
    "    except NoSuchElementException as e:\n",
    "        brandname_tags='-'\n",
    "     \n",
    "    try:\n",
    "        productname_tags=driver.find_elements_by_id('productTitle')\n",
    "    except NoSuchElementException as e:\n",
    "        productname_tags='-'\n",
    "                \n",
    "    try:\n",
    "        rating_tags=driver.find_elements_by_xpath(\"//a[@class='a-popover-trigger a-declarative']//i[1]//span\")\n",
    "    except NoSuchElementException as e:\n",
    "        rating_tags='-'\n",
    "\n",
    "    try:\n",
    "        NoOfRatings_tags=driver.find_elements_by_id('acrCustomerReviewText')\n",
    "    except NoSuchElementException as e:\n",
    "        NoOfRatings_tags='-'\n",
    "    \n",
    "    \n",
    "    try:\n",
    "        price_tags=driver.find_elements_by_xpath(\"//span[@class='a-size-medium a-color-price priceBlockBuyingPriceString']\")\n",
    "    except NoSuchElementException as e:\n",
    "        price_tags='-'\n",
    "     \n",
    "    try:\n",
    "        ReturnExchange_tags=driver.find_elements_by_xpath(\"//div[@class='a-section a-spacing-none icon-content']//a\")\n",
    "    except NoSuchElementException as e:\n",
    "        ReturnExchange_tags='-'\n",
    "        \n",
    "    try:\n",
    "        ExpectedDelivery_tags=driver.find_elements_by_id('ddmDeliveryMessage')\n",
    "    except NoSuchElementException as e:\n",
    "        ExpectedDelivery_tags='-'\n",
    "        \n",
    "    try:\n",
    "        Availability_tags=driver.find_elements_by_id('availability')\n",
    "    except NoSuchElementException as e:\n",
    "        Availability_tags='-'\n",
    "        \n",
    "    try:\n",
    "        OtherDetails_tags=driver.find_elements_by_id('feature-bullets')\n",
    "    except NoSuchElementException as e:\n",
    "        OtherDetails_tags='-'\n",
    "        \n",
    "    try:\n",
    "        ProductURL_tags=driver.find_elements_by_id('imgTagWrapperId')\n",
    "    except NoSuchElementException as e:\n",
    "        ProductURL_tags='-'\n",
    "        \n",
    "job_location=[]\n",
    "for i in rating_tags:\n",
    "    job_location.append(i.text)\n",
    "job_location\n"
   ]
  },
  {
   "cell_type": "code",
   "execution_count": null,
   "metadata": {},
   "outputs": [],
   "source": [
    "for i in range(len(rating_tags)):\n",
    "    element_list.append([brandname_tags[i].text, productname_tags[i].text, rating_tags[i].text, NoOfRatings_tags[i].text, price_tags[i].text, ReturnExchange_tags[i].text, ExpectedDelivery_tags[i].text, Availability_tags[i].text, OtherDetails_tags[i].text, ProductURL_tags[i].text])\n",
    "\n",
    "\n",
    "with xlsxwriter.Workbook('AmazonGuitarResults.xlsx') as workbook:\n",
    "    worksheet = workbook.add_worksheet()\n",
    "  \n",
    "for row_num, data in enumerate(element_list):\n",
    "    worksheet.write_row(row_num, 0, data) "
   ]
  },
  {
   "cell_type": "markdown",
   "metadata": {},
   "source": [
    "# Q3. Write a python program to access the search bar and search button on images.google.com and scrape 100 images each for keywords ‘fruits’, ‘cars’ and ‘Machine Learning’."
   ]
  },
  {
   "cell_type": "markdown",
   "metadata": {},
   "source": [
    "FRUITS"
   ]
  },
  {
   "cell_type": "code",
   "execution_count": null,
   "metadata": {
    "scrolled": true
   },
   "outputs": [],
   "source": [
    "import selenium\n",
    "import pandas as pd\n",
    "import time\n",
    "from selenium import webdriver\n",
    "\n",
    "driver=webdriver.Chrome(r\"C:\\Users\\sagar\\Downloads\\chromedriver_win32\\chromedriver.exe\")\n",
    "\n",
    "search_url=\"https://www.google.com/search?q={q}&tbm=isch&tbs=sur%3Afc&hl=en&ved=0CAIQpwVqFwoTCKCa1c6s4-oCFQAAAAAdAAAAABAC&biw=1251&bih=568\"\n",
    "driver.get(search_url.format(q='fruits'))\n",
    "\n",
    "imgResults = driver.find_elements_by_xpath(\"//img[contains(@class,'Q4LuWd')]\")\n",
    "totalResults=len(imgResults)\n",
    "\n",
    "img_urls = set()\n",
    "for i in  range(0,len(imgResults)):\n",
    "    img=imgResults[i]\n",
    "    try:\n",
    "        img.click()\n",
    "        time.sleep(2)\n",
    "        actual_images = driver.find_elements_by_css_selector('img.n3VNCb')\n",
    "        for actual_image in actual_images:\n",
    "            if actual_image.get_attribute('src') and 'https' in actual_image.get_attribute('src'):\n",
    "                img_urls.add(actual_image.get_attribute('src'))\n",
    "    except ElementClickInterceptedException or ElementNotInteractableException as err:\n",
    "        print(err)\n",
    "        \n",
    "img_urls"
   ]
  },
  {
   "cell_type": "markdown",
   "metadata": {},
   "source": [
    "CARS"
   ]
  },
  {
   "cell_type": "code",
   "execution_count": null,
   "metadata": {},
   "outputs": [],
   "source": [
    "import selenium\n",
    "import pandas as pd\n",
    "import time\n",
    "from selenium import webdriver\n",
    "\n",
    "driver=webdriver.Chrome(r\"C:\\Users\\sagar\\Downloads\\chromedriver_win32\\chromedriver.exe\")\n",
    "\n",
    "search_url=\"https://www.google.com/search?q={q}&tbm=isch&tbs=sur%3Afc&hl=en&ved=0CAIQpwVqFwoTCKCa1c6s4-oCFQAAAAAdAAAAABAC&biw=1251&bih=568\"\n",
    "driver.get(search_url.format(q='cars'))\n",
    "\n",
    "imgResults = driver.find_elements_by_xpath(\"//img[contains(@class,'Q4LuWd')]\")\n",
    "totalResults=len(imgResults)\n",
    "\n",
    "img_urls = set()\n",
    "for i in  range(0,len(imgResults)):\n",
    "    img=imgResults[i]\n",
    "    try:\n",
    "        img.click()\n",
    "        time.sleep(2)\n",
    "        actual_images = driver.find_elements_by_css_selector('img.n3VNCb')\n",
    "        for actual_image in actual_images:\n",
    "            if actual_image.get_attribute('src') and 'https' in actual_image.get_attribute('src'):\n",
    "                img_urls.add(actual_image.get_attribute('src'))\n",
    "    except ElementClickInterceptedException or ElementNotInteractableException as err:\n",
    "        print(err)\n",
    "        \n",
    "img_urls"
   ]
  },
  {
   "cell_type": "markdown",
   "metadata": {},
   "source": [
    "MACHINE LEARNING"
   ]
  },
  {
   "cell_type": "code",
   "execution_count": null,
   "metadata": {},
   "outputs": [],
   "source": [
    "import selenium\n",
    "import pandas as pd\n",
    "import time\n",
    "from selenium import webdriver\n",
    "\n",
    "driver=webdriver.Chrome(r\"C:\\Users\\sagar\\Downloads\\chromedriver_win32\\chromedriver.exe\")\n",
    "\n",
    "search_url=\"https://www.google.com/search?q={q}&tbm=isch&tbs=sur%3Afc&hl=en&ved=0CAIQpwVqFwoTCKCa1c6s4-oCFQAAAAAdAAAAABAC&biw=1251&bih=568\"\n",
    "driver.get(search_url.format(q='machine learning'))\n",
    "\n",
    "imgResults = driver.find_elements_by_xpath(\"//img[contains(@class,'Q4LuWd')]\")\n",
    "totalResults=len(imgResults)\n",
    "\n",
    "img_urls = set()\n",
    "for i in  range(0,len(imgResults)):\n",
    "    img=imgResults[i]\n",
    "    try:\n",
    "        img.click()\n",
    "        time.sleep(2)\n",
    "        actual_images = driver.find_elements_by_css_selector('img.n3VNCb')\n",
    "        for actual_image in actual_images:\n",
    "            if actual_image.get_attribute('src') and 'https' in actual_image.get_attribute('src'):\n",
    "                img_urls.add(actual_image.get_attribute('src'))\n",
    "    except ElementClickInterceptedException or ElementNotInteractableException as err:\n",
    "        print(err)\n",
    "        \n",
    "img_urls"
   ]
  },
  {
   "cell_type": "markdown",
   "metadata": {},
   "source": [
    "# Q5. Write a program to scrap geospatial coordinates (latitude, longitude) of a city searched on google maps."
   ]
  },
  {
   "cell_type": "code",
   "execution_count": null,
   "metadata": {},
   "outputs": [],
   "source": [
    "from selenium import webdriver\n",
    "import selenium\n",
    "from selenium.common.exceptions import ElementClickInterceptedException\n",
    "import pandas as pd\n",
    "import time\n",
    "\n",
    "driver=webdriver.Chrome(r\"C:\\Users\\sagar\\Downloads\\chromedriver_win32\\chromedriver.exe\")\n",
    "driver.get('https://www.mapdevelopers.com/geocode_tool.php')\n",
    "\n",
    "search_bar=driver.find_element_by_id('address')\n",
    "search_bar.clear()\n",
    "search_bar.send_keys('Thane')\n",
    "\n",
    "\n",
    "search = driver.find_element_by_xpath('//*[@id=\"search-form\"]/div[1]/span[2]').click()\n",
    "time.sleep(4)\n",
    "lat=driver.find_element_by_id('display_lat') \n",
    "lng=driver.find_element_by_id('display_lng') \n",
    "    \n",
    "print(\"Latitude:\",lat.text)\n",
    "print(\"Longitude:\",lng.text)\n"
   ]
  },
  {
   "cell_type": "markdown",
   "metadata": {},
   "source": [
    "# Q6. Write a program to scrap details of all the funding deals for second quarter (i.e. July 20 – September 20) from trak.in."
   ]
  },
  {
   "cell_type": "code",
   "execution_count": null,
   "metadata": {},
   "outputs": [],
   "source": [
    "import selenium\n",
    "import pandas as pd\n",
    "import time\n",
    "from selenium import webdriver\n",
    "\n",
    "driver=webdriver.Chrome(r\"C:\\Users\\sagar\\Downloads\\chromedriver_win32\\chromedriver.exe\")\n",
    "\n",
    "url='https://trak.in/india-startup-funding-investment-2015/'\n",
    "driver.get(url)"
   ]
  },
  {
   "cell_type": "markdown",
   "metadata": {},
   "source": [
    "JULY 2020"
   ]
  },
  {
   "cell_type": "code",
   "execution_count": null,
   "metadata": {},
   "outputs": [],
   "source": [
    "tbl1 = driver.find_element_by_xpath(\"/html/body/div[1]/main/div/div/div/div[2]/div[1]/div/div/div/div[1]/div/div[11]/div[3]/div[2]/table\").get_attribute('outerHTML')\n",
    "df1  = pd.read_html(tbl1)\n",
    "df1"
   ]
  },
  {
   "cell_type": "markdown",
   "metadata": {},
   "source": [
    "AUGUST 2020"
   ]
  },
  {
   "cell_type": "code",
   "execution_count": null,
   "metadata": {},
   "outputs": [],
   "source": [
    "tbl2 = driver.find_element_by_xpath(\"/html/body/div[1]/main/div/div/div/div[2]/div[1]/div/div/div/div[1]/div/div[10]/div[3]/div[2]/table\").get_attribute('outerHTML')\n",
    "df2  = pd.read_html(tbl2)\n",
    "df2"
   ]
  },
  {
   "cell_type": "markdown",
   "metadata": {},
   "source": [
    "SEPTEMBER 2020"
   ]
  },
  {
   "cell_type": "code",
   "execution_count": null,
   "metadata": {},
   "outputs": [],
   "source": [
    "tbl3 = driver.find_element_by_xpath(\"/html/body/div[1]/main/div/div/div/div[2]/div[1]/div/div/div/div[1]/div/div[9]/div[3]/div[2]/table\").get_attribute('outerHTML')\n",
    "df3  = pd.read_html(tbl3)\n",
    "df3"
   ]
  },
  {
   "cell_type": "markdown",
   "metadata": {},
   "source": [
    "# Q7. Write a program to scrap all the available details of top 10 gaming laptops from digit.in."
   ]
  },
  {
   "cell_type": "code",
   "execution_count": 1,
   "metadata": {},
   "outputs": [],
   "source": [
    "import selenium\n",
    "import pandas as pd\n",
    "import time\n",
    "from selenium import webdriver\n",
    "\n",
    "driver=webdriver.Chrome(r\"C:\\Users\\sagar\\Downloads\\chromedriver_win32\\chromedriver.exe\")\n",
    "\n",
    "url='https://www.digit.in/top-products/best-gaming-laptops-40.html'\n",
    "driver.get(url)"
   ]
  },
  {
   "cell_type": "code",
   "execution_count": 4,
   "metadata": {},
   "outputs": [
    {
     "name": "stdout",
     "output_type": "stream",
     "text": [
      "Laptop1: 1.\n",
      "ALIENWARE AREA 51M R2\n"
     ]
    },
    {
     "data": {
      "text/plain": [
       "[        SPECIFICATION SPECIFICATION.1  \\\n",
       " 0                  OS               :   \n",
       " 1             Display               :   \n",
       " 2           Processor               :   \n",
       " 3              Memory               :   \n",
       " 4              Weight               :   \n",
       " 5           Dimension               :   \n",
       " 6  Graphics Processor               :   \n",
       " \n",
       "                                     SPECIFICATION.2  \n",
       " 0                                   Windows 10 Home  \n",
       " 1                               17.3\" (1920 x 1080)  \n",
       " 2  10th Generation Intel® Core™ i7-10700 | 2.90 GHz  \n",
       " 3                             1 TB SSD/16 GBGB DDR4  \n",
       " 4                                               4.1  \n",
       " 5                            27.65 x 402.6 x 319.14  \n",
       " 6                           Intel® UHD Graphics 630  ]"
      ]
     },
     "execution_count": 4,
     "metadata": {},
     "output_type": "execute_result"
    }
   ],
   "source": [
    "one=driver.find_element_by_id('toptenIdevent1')\n",
    "tbl1 = driver.find_element_by_xpath(\"/html/body/div[3]/div[1]/div[4]/div[3]/div[1]/table\").get_attribute('outerHTML')\n",
    "df1  = pd.read_html(tbl1)\n",
    "print(\"Laptop1:\",one.text)\n",
    "df1"
   ]
  },
  {
   "cell_type": "code",
   "execution_count": 5,
   "metadata": {},
   "outputs": [
    {
     "name": "stdout",
     "output_type": "stream",
     "text": [
      "Laptop2: 2.\n",
      "ALIENWARE M15 R3\n"
     ]
    },
    {
     "data": {
      "text/plain": [
       "[        SPECIFICATION SPECIFICATION.1  \\\n",
       " 0                  OS               :   \n",
       " 1             Display               :   \n",
       " 2           Processor               :   \n",
       " 3              Memory               :   \n",
       " 4              Weight               :   \n",
       " 5           Dimension               :   \n",
       " 6  Graphics Processor               :   \n",
       " 7               Price               :   \n",
       " \n",
       "                                 SPECIFICATION.2  \n",
       " 0                               Windows 10 Home  \n",
       " 1                           15.6\" (3840 x 2160)  \n",
       " 2  10th Generation Intel® Core™ i9-10980HK | NA  \n",
       " 3                         1 TB SSD/16 GBGB DDR4  \n",
       " 4                                           NaN  \n",
       " 5                                           NaN  \n",
       " 6                                           NaN  \n",
       " 7                                       ₹341990  ]"
      ]
     },
     "execution_count": 5,
     "metadata": {},
     "output_type": "execute_result"
    }
   ],
   "source": [
    "two=driver.find_element_by_id('toptenIdevent2')\n",
    "tbl2 = driver.find_element_by_xpath(\"/html/body/div[3]/div[1]/div[4]/div[6]/div[1]/table\").get_attribute('outerHTML')\n",
    "df2  = pd.read_html(tbl2)\n",
    "print(\"Laptop2:\",two.text)\n",
    "df2"
   ]
  },
  {
   "cell_type": "code",
   "execution_count": 6,
   "metadata": {},
   "outputs": [
    {
     "name": "stdout",
     "output_type": "stream",
     "text": [
      "Laptop3: 3.\n",
      "ASUS ROG STRIX SCAR 15\n"
     ]
    },
    {
     "data": {
      "text/plain": [
       "[        SPECIFICATION SPECIFICATION.1                SPECIFICATION.2\n",
       " 0                  OS               :                Windows 10 Home\n",
       " 1             Display               :            15.6\" (1920 x 1080)\n",
       " 2           Processor               :  AMD Ryzen™ 9 5900HX | 3.3 GHz\n",
       " 3              Memory               :          1 TB SSD/16 GBGB DDR4\n",
       " 4              Weight               :                           2.30\n",
       " 5           Dimension               :             35.4 x 25.9 x 2.26\n",
       " 6  Graphics Processor               :      NVIDIA® GeForce RTX™ 3070]"
      ]
     },
     "execution_count": 6,
     "metadata": {},
     "output_type": "execute_result"
    }
   ],
   "source": [
    "three=driver.find_element_by_id('toptenIdevent3')\n",
    "tbl3 = driver.find_element_by_xpath(\"/html/body/div[3]/div[1]/div[4]/div[9]/div[2]/table\").get_attribute('outerHTML')\n",
    "df3  = pd.read_html(tbl3)\n",
    "print(\"Laptop3:\",three.text)\n",
    "df3"
   ]
  },
  {
   "cell_type": "code",
   "execution_count": 7,
   "metadata": {},
   "outputs": [
    {
     "name": "stdout",
     "output_type": "stream",
     "text": [
      "Laptop4: 4.\n",
      "ASUS ROG ZEPHYRUS G14\n"
     ]
    },
    {
     "data": {
      "text/plain": [
       "[        SPECIFICATION SPECIFICATION.1                       SPECIFICATION.2\n",
       " 0                  OS               :                       Windows 10 Home\n",
       " 1             Display               :                     14\" (1920 x 1080)\n",
       " 2           Processor               :  AMD 3rd Generation Ryzen 9 | 3.3 GHz\n",
       " 3              Memory               :                 1 TB SSD/16 GBGB DDR4\n",
       " 4              Weight               :                                  1.65\n",
       " 5           Dimension               :                     32.5 x 22.1 x 1.8\n",
       " 6  Graphics Processor               :               NVIDIA GeForce RTX 2060]"
      ]
     },
     "execution_count": 7,
     "metadata": {},
     "output_type": "execute_result"
    }
   ],
   "source": [
    "four=driver.find_element_by_id('toptenIdevent4')\n",
    "tbl4 = driver.find_element_by_xpath(\"/html/body/div[3]/div[1]/div[4]/div[13]/div[2]/table\").get_attribute('outerHTML')\n",
    "df4  = pd.read_html(tbl4)\n",
    "print(\"Laptop4:\",four.text)\n",
    "df4"
   ]
  },
  {
   "cell_type": "code",
   "execution_count": 8,
   "metadata": {},
   "outputs": [
    {
     "name": "stdout",
     "output_type": "stream",
     "text": [
      "Laptop5: 5.\n",
      "LENOVO LEGION 5I\n"
     ]
    },
    {
     "data": {
      "text/plain": [
       "[        SPECIFICATION SPECIFICATION.1  \\\n",
       " 0                  OS               :   \n",
       " 1             Display               :   \n",
       " 2           Processor               :   \n",
       " 3              Memory               :   \n",
       " 4              Weight               :   \n",
       " 5           Dimension               :   \n",
       " 6  Graphics Processor               :   \n",
       " 7               Price               :   \n",
       " \n",
       "                                      SPECIFICATION.2  \n",
       " 0                                     Windows 10 Pro  \n",
       " 1                                15.6\" (1920 x 1080)  \n",
       " 2  10th Generation Intel® Core™ i5-10300H | 2.50 GHz  \n",
       " 3                              1 TB SSD/16 GBGB DDR4  \n",
       " 4                                                2.3  \n",
       " 5                            363.06 x 259.61 x 23.57  \n",
       " 6                      NVIDIA® GeForce® GTX 1650 4GB  \n",
       " 7                                             ₹71990  ]"
      ]
     },
     "execution_count": 8,
     "metadata": {},
     "output_type": "execute_result"
    }
   ],
   "source": [
    "five=driver.find_element_by_id('toptenIdevent5')\n",
    "tbl5 = driver.find_element_by_xpath(\"/html/body/div[3]/div[1]/div[4]/div[16]/div[1]/table\").get_attribute('outerHTML')\n",
    "df5  = pd.read_html(tbl5)\n",
    "print(\"Laptop5:\",five.text)\n",
    "df5"
   ]
  },
  {
   "cell_type": "code",
   "execution_count": 9,
   "metadata": {},
   "outputs": [
    {
     "name": "stdout",
     "output_type": "stream",
     "text": [
      "Laptop6: 6.\n",
      "ASUS ROG ZEPHYRUS DUO 15\n"
     ]
    },
    {
     "data": {
      "text/plain": [
       "[        SPECIFICATION SPECIFICATION.1                     SPECIFICATION.2\n",
       " 0                  OS               :                          Windows 10\n",
       " 1             Display               :                 15.6\" (3840 x 1100)\n",
       " 2           Processor               :  Intel Core i7 10th Gen 10875H | NA\n",
       " 3              Memory               :              512 GB SSD/4 GBGB DDR4\n",
       " 4              Weight               :                                 2.4\n",
       " 5           Dimension               :             268.30 x 360.00 x 20.90\n",
       " 6  Graphics Processor               :       NVIDIA GeForce RTX 2070 Max-Q]"
      ]
     },
     "execution_count": 9,
     "metadata": {},
     "output_type": "execute_result"
    }
   ],
   "source": [
    "six=driver.find_element_by_id('toptenIdevent6')\n",
    "tbl6 = driver.find_element_by_xpath(\"/html/body/div[3]/div[1]/div[4]/div[19]/div[1]/table\").get_attribute('outerHTML')\n",
    "df6  = pd.read_html(tbl6)\n",
    "print(\"Laptop6:\",six.text)\n",
    "df6"
   ]
  },
  {
   "cell_type": "code",
   "execution_count": 10,
   "metadata": {},
   "outputs": [
    {
     "name": "stdout",
     "output_type": "stream",
     "text": [
      "Laptop7: 7.\n",
      "ACER ASPIRE 7 GAMING\n"
     ]
    },
    {
     "data": {
      "text/plain": [
       "[        SPECIFICATION SPECIFICATION.1                    SPECIFICATION.2\n",
       " 0                  OS               :                    Windows 10 Home\n",
       " 1             Display               :                15.6\" (1920 x 1080)\n",
       " 2           Processor               :  AMD Ryzen™ 5-5500U hexa-core | NA\n",
       " 3              Memory               :             512 GB SSD/8 GBGB DDR4\n",
       " 4              Weight               :                               2.15\n",
       " 5           Dimension               :                 2.29 x 36.3 x 25.4\n",
       " 6  Graphics Processor               :          NVIDIA® GeForce® GTX 1650\n",
       " 7               Price               :                             ₹56990]"
      ]
     },
     "execution_count": 10,
     "metadata": {},
     "output_type": "execute_result"
    }
   ],
   "source": [
    "seven=driver.find_element_by_id('toptenIdevent7')\n",
    "tbl7 = driver.find_element_by_xpath(\"/html/body/div[3]/div[1]/div[4]/div[23]/div[2]/table\").get_attribute('outerHTML')\n",
    "df7  = pd.read_html(tbl7)\n",
    "print(\"Laptop7:\",seven.text)\n",
    "df7"
   ]
  },
  {
   "cell_type": "code",
   "execution_count": null,
   "metadata": {},
   "outputs": [],
   "source": []
  }
 ],
 "metadata": {
  "kernelspec": {
   "display_name": "Python 3",
   "language": "python",
   "name": "python3"
  },
  "language_info": {
   "codemirror_mode": {
    "name": "ipython",
    "version": 3
   },
   "file_extension": ".py",
   "mimetype": "text/x-python",
   "name": "python",
   "nbconvert_exporter": "python",
   "pygments_lexer": "ipython3",
   "version": "3.8.5"
  }
 },
 "nbformat": 4,
 "nbformat_minor": 4
}
